{
  "nbformat": 4,
  "nbformat_minor": 0,
  "metadata": {
    "colab": {
      "provenance": [],
      "authorship_tag": "ABX9TyN4AFCNzXPzdfKi9TtXYqgl",
      "include_colab_link": true
    },
    "kernelspec": {
      "name": "python3",
      "display_name": "Python 3"
    },
    "language_info": {
      "name": "python"
    }
  },
  "cells": [
    {
      "cell_type": "markdown",
      "metadata": {
        "id": "view-in-github",
        "colab_type": "text"
      },
      "source": [
        "<a href=\"https://colab.research.google.com/github/jhonmattoss/JhonColab/blob/main/JhonPython.ipynb\" target=\"_parent\"><img src=\"https://colab.research.google.com/assets/colab-badge.svg\" alt=\"Open In Colab\"/></a>"
      ]
    },
    {
      "cell_type": "code",
      "execution_count": 29,
      "metadata": {
        "colab": {
          "base_uri": "https://localhost:8080/"
        },
        "id": "HE70HPPWNdTL",
        "outputId": "a683c87d-34c9-4c77-b89f-37e6516bbf9a"
      },
      "outputs": [
        {
          "output_type": "stream",
          "name": "stdout",
          "text": [
            "Yes, 'Kiwi' is in the fruits list\n"
          ]
        }
      ],
      "source": [
        "thislist = [\"apple\", \"banana\", \"cherry\",123,True,\"kiwi\", \"melon\", \"mango\"]\n",
        "#print(thislist[0:1])\n",
        "#print(type(thislist))\n",
        "if \"kiwi\" in thislist:\n",
        "  print(\"Yes, 'Kiwi' is in the fruits list\")"
      ]
    }
  ]
}