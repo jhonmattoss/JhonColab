{
  "nbformat": 4,
  "nbformat_minor": 0,
  "metadata": {
    "colab": {
      "provenance": [],
      "authorship_tag": "ABX9TyOGIi4Qi6WZ4NfWf3y0MCCE",
      "include_colab_link": true
    },
    "kernelspec": {
      "name": "python3",
      "display_name": "Python 3"
    },
    "language_info": {
      "name": "python"
    }
  },
  "cells": [
    {
      "cell_type": "markdown",
      "metadata": {
        "id": "view-in-github",
        "colab_type": "text"
      },
      "source": [
        "<a href=\"https://colab.research.google.com/github/jhonmattoss/JhonColab/blob/main/classificacao_deroupas_Deep.ipynb\" target=\"_parent\"><img src=\"https://colab.research.google.com/assets/colab-badge.svg\" alt=\"Open In Colab\"/></a>"
      ]
    },
    {
      "cell_type": "markdown",
      "source": [
        "Imports"
      ],
      "metadata": {
        "id": "6X7E3hpzbCaV"
      }
    },
    {
      "cell_type": "code",
      "source": [
        "import tensorflow\n",
        "from tensorflow import keras  \n",
        "import matplotlib.pyplot as plt "
      ],
      "metadata": {
        "id": "bfYmbCaeHKH5"
      },
      "execution_count": 4,
      "outputs": []
    },
    {
      "cell_type": "markdown",
      "source": [
        "carregar dataset"
      ],
      "metadata": {
        "id": "_JSe-8DacIki"
      }
    },
    {
      "cell_type": "code",
      "source": [
        "dataset = keras.datasets.fashion_mnist\n",
        "((imagens_treino, identificacoes_treino),(imagens_teste, identificacoes_teste)) = dataset.load_data()\n"
      ],
      "metadata": {
        "id": "z700UxyMTp3Q"
      },
      "execution_count": null,
      "outputs": []
    },
    {
      "cell_type": "markdown",
      "source": [
        "explorar os dados"
      ],
      "metadata": {
        "id": "navxc0xuc4TF"
      }
    },
    {
      "cell_type": "code",
      "source": [
        "len(imagens_treino)\n",
        "imagens_treino.shape\n",
        "imagens_teste.shape\n",
        "len(identificacoes_teste)\n",
        "identificacoes_treino.min()\n",
        "identificacoes_treino.max()"
      ],
      "metadata": {
        "id": "M5N-RrTtTs1G"
      },
      "execution_count": null,
      "outputs": []
    },
    {
      "cell_type": "markdown",
      "source": [
        "exibir os dados"
      ],
      "metadata": {
        "id": "62N9MFwSc6tt"
      }
    },
    {
      "cell_type": "code",
      "source": [
        "total_de_classificacoes = 10\n",
        "nomes_de_classificacoes = ['Camiseta','calça','Pullover','Vestido',\n",
        "                           'Casaco','sandália','camisa','Tênis',\n",
        "                           'bolsa','Bota']\n",
        "plt.imshow(imagens_treino[0])\n",
        "plt.title(identificacoes_treino[0])                        \n",
        "for imagem in range(10):\n",
        "  plt.subplot(2, 5, imagem+1)\n",
        "  plt.imshow(imagens_treino[imagem])\n",
        "  plt.title(nomes_de_classificacoes[identificacoes_treino[imagem]])"
      ],
      "metadata": {
        "id": "iy-8isNcTu9M"
      },
      "execution_count": null,
      "outputs": []
    },
    {
      "cell_type": "code",
      "source": [
        "modelo = keras.Sequential([\n",
        "    keras.layers.Flatten(input_shape=(28, 28))\n",
        "])"
      ],
      "metadata": {
        "id": "CCVO0RscdkB9"
      },
      "execution_count": 6,
      "outputs": []
    }
  ]
}